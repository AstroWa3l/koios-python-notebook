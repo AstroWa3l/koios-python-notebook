{
 "cells": [
  {
   "cell_type": "code",
   "execution_count": 1,
   "metadata": {},
   "outputs": [],
   "source": [
    "#Importing packages\n",
    "#\n",
    "# You can delete whatever package(s) you want..\n",
    "#\n",
    "import os\n",
    "import json\n",
    "import time\n",
    "import requests\n",
    "import math as m\n",
    "import pandas as pd\n",
    "import numpy as np\n",
    "import koios_python as kp\n",
    "\n",
    "\n",
    "\n",
    "# Because most of my data sets I have made can have up to 30+ columns and 20+ rows\n",
    "# code below will increase pandas defaults for max rows \n",
    "# and columns that you can display in a Juptyer Notebook\n",
    "pd.options.display.max_columns = 60\n",
    "pd.options.display.max_rows = 1000"
   ]
  },
  {
   "attachments": {},
   "cell_type": "markdown",
   "metadata": {},
   "source": [
    "## NoteBook 1\n"
   ]
  },
  {
   "attachments": {},
   "cell_type": "markdown",
   "metadata": {},
   "source": [
    "In this Notebook we will be going over how to use the koios_python library in various scenarios a developer may face. The first thing we need to do is\n",
    "\n",
    "create a class instance for koios_python and choose what network we would like to use for our queries, in this tutorial we will use mainnet but the \n",
    "\n",
    "library supports all the various developer networks available including preview, preprod, guild, and mainnet."
   ]
  },
  {
   "cell_type": "code",
   "execution_count": 2,
   "metadata": {},
   "outputs": [
    {
     "data": {
      "text/plain": [
       "[{'hash': '573995bfa97a7ba712d620f49e5b5db28ec2a2e437bcdb1f888f788c22cb3b50',\n",
       "  'epoch_no': 384,\n",
       "  'abs_slot': 80634516,\n",
       "  'epoch_slot': 109716,\n",
       "  'block_no': 8195970,\n",
       "  'block_time': 1672200807}]"
      ]
     },
     "execution_count": 2,
     "metadata": {},
     "output_type": "execute_result"
    }
   ],
   "source": [
    "# create a koios server object with network set to mainnet\n",
    "koios_mainnet = kp.URLs(network='mainnet')\n",
    "\n",
    "# let's check the current tip of the mainnet\n",
    "koios_mainnet.get_tip()"
   ]
  },
  {
   "attachments": {},
   "cell_type": "markdown",
   "metadata": {},
   "source": [
    "### Let's go over some use case examples for koios_python"
   ]
  },
  {
   "attachments": {},
   "cell_type": "markdown",
   "metadata": {},
   "source": [
    "**Native Assets:**\n",
    "\n",
    "What if you wanted to find out how many Native Assets and tokens are on the cardano blockchain? (too expensive need async XD)"
   ]
  },
  {
   "cell_type": "code",
   "execution_count": 4,
   "metadata": {},
   "outputs": [],
   "source": [
    "# my own version of the get_asset_list function\n",
    "def get_asset_list(content_range=\"0-999\"):\n",
    "    url = \"https://api.koios.rest/api/v0/asset_list\"\n",
    "    headers = {'Range': content_range}\n",
    "    response = requests.get(url, headers=headers)\n",
    "    try: \n",
    "        asset_list = response.json()\n",
    "        pd_asset_list = pd.DataFrame(asset_list)\n",
    "        return pd_asset_list\n",
    "    except Exception as e:\n",
    "            print(e)"
   ]
  },
  {
   "cell_type": "code",
   "execution_count": 5,
   "metadata": {},
   "outputs": [
    {
     "ename": "KeyboardInterrupt",
     "evalue": "",
     "output_type": "error",
     "traceback": [
      "\u001b[0;31m---------------------------------------------------------------------------\u001b[0m",
      "\u001b[0;31mKeyboardInterrupt\u001b[0m                         Traceback (most recent call last)",
      "\u001b[0;32m/var/folders/qm/qxx0f2_j4pd9p5_p096pjflw0000gn/T/ipykernel_98343/3650713322.py\u001b[0m in \u001b[0;36m<module>\u001b[0;34m\u001b[0m\n\u001b[1;32m      4\u001b[0m         \u001b[0;31m# print(data)\u001b[0m\u001b[0;34m\u001b[0m\u001b[0;34m\u001b[0m\u001b[0m\n\u001b[1;32m      5\u001b[0m         \u001b[0;31m# print(koios_mainnet.get_asset_list(content_range=\"{}-{}\".format(i*1000,(i+1)*1000)))\u001b[0m\u001b[0;34m\u001b[0m\u001b[0;34m\u001b[0m\u001b[0m\n\u001b[0;32m----> 6\u001b[0;31m         \u001b[0masset_data\u001b[0m \u001b[0;34m=\u001b[0m \u001b[0mget_asset_list\u001b[0m\u001b[0;34m(\u001b[0m\u001b[0mcontent_range\u001b[0m\u001b[0;34m=\u001b[0m\u001b[0;34m\"{}-{}\"\u001b[0m\u001b[0;34m.\u001b[0m\u001b[0mformat\u001b[0m\u001b[0;34m(\u001b[0m\u001b[0mi\u001b[0m\u001b[0;34m*\u001b[0m\u001b[0;36m1000\u001b[0m\u001b[0;34m,\u001b[0m\u001b[0;34m(\u001b[0m\u001b[0mi\u001b[0m\u001b[0;34m+\u001b[0m\u001b[0;36m1\u001b[0m\u001b[0;34m)\u001b[0m\u001b[0;34m*\u001b[0m\u001b[0;36m1000\u001b[0m\u001b[0;34m)\u001b[0m\u001b[0;34m)\u001b[0m\u001b[0;34m\u001b[0m\u001b[0;34m\u001b[0m\u001b[0m\n\u001b[0m\u001b[1;32m      7\u001b[0m         \u001b[0;31m# print(asset_data)\u001b[0m\u001b[0;34m\u001b[0m\u001b[0;34m\u001b[0m\u001b[0m\n\u001b[1;32m      8\u001b[0m         \u001b[0;32mif\u001b[0m \u001b[0mlen\u001b[0m\u001b[0;34m(\u001b[0m\u001b[0masset_data\u001b[0m\u001b[0;34m)\u001b[0m \u001b[0;34m>\u001b[0m \u001b[0;36m0\u001b[0m\u001b[0;34m:\u001b[0m\u001b[0;34m\u001b[0m\u001b[0;34m\u001b[0m\u001b[0m\n",
      "\u001b[0;32m/var/folders/qm/qxx0f2_j4pd9p5_p096pjflw0000gn/T/ipykernel_98343/2075790505.py\u001b[0m in \u001b[0;36mget_asset_list\u001b[0;34m(content_range)\u001b[0m\n\u001b[1;32m      3\u001b[0m     \u001b[0murl\u001b[0m \u001b[0;34m=\u001b[0m \u001b[0;34m\"https://api.koios.rest/api/v0/asset_list\"\u001b[0m\u001b[0;34m\u001b[0m\u001b[0;34m\u001b[0m\u001b[0m\n\u001b[1;32m      4\u001b[0m     \u001b[0mheaders\u001b[0m \u001b[0;34m=\u001b[0m \u001b[0;34m{\u001b[0m\u001b[0;34m'Range'\u001b[0m\u001b[0;34m:\u001b[0m \u001b[0mcontent_range\u001b[0m\u001b[0;34m}\u001b[0m\u001b[0;34m\u001b[0m\u001b[0;34m\u001b[0m\u001b[0m\n\u001b[0;32m----> 5\u001b[0;31m     \u001b[0mresponse\u001b[0m \u001b[0;34m=\u001b[0m \u001b[0mrequests\u001b[0m\u001b[0;34m.\u001b[0m\u001b[0mget\u001b[0m\u001b[0;34m(\u001b[0m\u001b[0murl\u001b[0m\u001b[0;34m,\u001b[0m \u001b[0mheaders\u001b[0m\u001b[0;34m=\u001b[0m\u001b[0mheaders\u001b[0m\u001b[0;34m)\u001b[0m\u001b[0;34m\u001b[0m\u001b[0;34m\u001b[0m\u001b[0m\n\u001b[0m\u001b[1;32m      6\u001b[0m     \u001b[0;32mtry\u001b[0m\u001b[0;34m:\u001b[0m\u001b[0;34m\u001b[0m\u001b[0;34m\u001b[0m\u001b[0m\n\u001b[1;32m      7\u001b[0m         \u001b[0masset_list\u001b[0m \u001b[0;34m=\u001b[0m \u001b[0mresponse\u001b[0m\u001b[0;34m.\u001b[0m\u001b[0mjson\u001b[0m\u001b[0;34m(\u001b[0m\u001b[0;34m)\u001b[0m\u001b[0;34m\u001b[0m\u001b[0;34m\u001b[0m\u001b[0m\n",
      "\u001b[0;32m/opt/anaconda3/lib/python3.9/site-packages/requests/api.py\u001b[0m in \u001b[0;36mget\u001b[0;34m(url, params, **kwargs)\u001b[0m\n\u001b[1;32m     73\u001b[0m     \"\"\"\n\u001b[1;32m     74\u001b[0m \u001b[0;34m\u001b[0m\u001b[0m\n\u001b[0;32m---> 75\u001b[0;31m     \u001b[0;32mreturn\u001b[0m \u001b[0mrequest\u001b[0m\u001b[0;34m(\u001b[0m\u001b[0;34m'get'\u001b[0m\u001b[0;34m,\u001b[0m \u001b[0murl\u001b[0m\u001b[0;34m,\u001b[0m \u001b[0mparams\u001b[0m\u001b[0;34m=\u001b[0m\u001b[0mparams\u001b[0m\u001b[0;34m,\u001b[0m \u001b[0;34m**\u001b[0m\u001b[0mkwargs\u001b[0m\u001b[0;34m)\u001b[0m\u001b[0;34m\u001b[0m\u001b[0;34m\u001b[0m\u001b[0m\n\u001b[0m\u001b[1;32m     76\u001b[0m \u001b[0;34m\u001b[0m\u001b[0m\n\u001b[1;32m     77\u001b[0m \u001b[0;34m\u001b[0m\u001b[0m\n",
      "\u001b[0;32m/opt/anaconda3/lib/python3.9/site-packages/requests/api.py\u001b[0m in \u001b[0;36mrequest\u001b[0;34m(method, url, **kwargs)\u001b[0m\n\u001b[1;32m     59\u001b[0m     \u001b[0;31m# cases, and look like a memory leak in others.\u001b[0m\u001b[0;34m\u001b[0m\u001b[0;34m\u001b[0m\u001b[0m\n\u001b[1;32m     60\u001b[0m     \u001b[0;32mwith\u001b[0m \u001b[0msessions\u001b[0m\u001b[0;34m.\u001b[0m\u001b[0mSession\u001b[0m\u001b[0;34m(\u001b[0m\u001b[0;34m)\u001b[0m \u001b[0;32mas\u001b[0m \u001b[0msession\u001b[0m\u001b[0;34m:\u001b[0m\u001b[0;34m\u001b[0m\u001b[0;34m\u001b[0m\u001b[0m\n\u001b[0;32m---> 61\u001b[0;31m         \u001b[0;32mreturn\u001b[0m \u001b[0msession\u001b[0m\u001b[0;34m.\u001b[0m\u001b[0mrequest\u001b[0m\u001b[0;34m(\u001b[0m\u001b[0mmethod\u001b[0m\u001b[0;34m=\u001b[0m\u001b[0mmethod\u001b[0m\u001b[0;34m,\u001b[0m \u001b[0murl\u001b[0m\u001b[0;34m=\u001b[0m\u001b[0murl\u001b[0m\u001b[0;34m,\u001b[0m \u001b[0;34m**\u001b[0m\u001b[0mkwargs\u001b[0m\u001b[0;34m)\u001b[0m\u001b[0;34m\u001b[0m\u001b[0;34m\u001b[0m\u001b[0m\n\u001b[0m\u001b[1;32m     62\u001b[0m \u001b[0;34m\u001b[0m\u001b[0m\n\u001b[1;32m     63\u001b[0m \u001b[0;34m\u001b[0m\u001b[0m\n",
      "\u001b[0;32m/opt/anaconda3/lib/python3.9/site-packages/requests/sessions.py\u001b[0m in \u001b[0;36mrequest\u001b[0;34m(self, method, url, params, data, headers, cookies, files, auth, timeout, allow_redirects, proxies, hooks, stream, verify, cert, json)\u001b[0m\n\u001b[1;32m    540\u001b[0m         }\n\u001b[1;32m    541\u001b[0m         \u001b[0msend_kwargs\u001b[0m\u001b[0;34m.\u001b[0m\u001b[0mupdate\u001b[0m\u001b[0;34m(\u001b[0m\u001b[0msettings\u001b[0m\u001b[0;34m)\u001b[0m\u001b[0;34m\u001b[0m\u001b[0;34m\u001b[0m\u001b[0m\n\u001b[0;32m--> 542\u001b[0;31m         \u001b[0mresp\u001b[0m \u001b[0;34m=\u001b[0m \u001b[0mself\u001b[0m\u001b[0;34m.\u001b[0m\u001b[0msend\u001b[0m\u001b[0;34m(\u001b[0m\u001b[0mprep\u001b[0m\u001b[0;34m,\u001b[0m \u001b[0;34m**\u001b[0m\u001b[0msend_kwargs\u001b[0m\u001b[0;34m)\u001b[0m\u001b[0;34m\u001b[0m\u001b[0;34m\u001b[0m\u001b[0m\n\u001b[0m\u001b[1;32m    543\u001b[0m \u001b[0;34m\u001b[0m\u001b[0m\n\u001b[1;32m    544\u001b[0m         \u001b[0;32mreturn\u001b[0m \u001b[0mresp\u001b[0m\u001b[0;34m\u001b[0m\u001b[0;34m\u001b[0m\u001b[0m\n",
      "\u001b[0;32m/opt/anaconda3/lib/python3.9/site-packages/requests/sessions.py\u001b[0m in \u001b[0;36msend\u001b[0;34m(self, request, **kwargs)\u001b[0m\n\u001b[1;32m    653\u001b[0m \u001b[0;34m\u001b[0m\u001b[0m\n\u001b[1;32m    654\u001b[0m         \u001b[0;31m# Send the request\u001b[0m\u001b[0;34m\u001b[0m\u001b[0;34m\u001b[0m\u001b[0m\n\u001b[0;32m--> 655\u001b[0;31m         \u001b[0mr\u001b[0m \u001b[0;34m=\u001b[0m \u001b[0madapter\u001b[0m\u001b[0;34m.\u001b[0m\u001b[0msend\u001b[0m\u001b[0;34m(\u001b[0m\u001b[0mrequest\u001b[0m\u001b[0;34m,\u001b[0m \u001b[0;34m**\u001b[0m\u001b[0mkwargs\u001b[0m\u001b[0;34m)\u001b[0m\u001b[0;34m\u001b[0m\u001b[0;34m\u001b[0m\u001b[0m\n\u001b[0m\u001b[1;32m    656\u001b[0m \u001b[0;34m\u001b[0m\u001b[0m\n\u001b[1;32m    657\u001b[0m         \u001b[0;31m# Total elapsed time of the request (approximately)\u001b[0m\u001b[0;34m\u001b[0m\u001b[0;34m\u001b[0m\u001b[0m\n",
      "\u001b[0;32m/opt/anaconda3/lib/python3.9/site-packages/requests/adapters.py\u001b[0m in \u001b[0;36msend\u001b[0;34m(self, request, stream, timeout, verify, cert, proxies)\u001b[0m\n\u001b[1;32m    437\u001b[0m         \u001b[0;32mtry\u001b[0m\u001b[0;34m:\u001b[0m\u001b[0;34m\u001b[0m\u001b[0;34m\u001b[0m\u001b[0m\n\u001b[1;32m    438\u001b[0m             \u001b[0;32mif\u001b[0m \u001b[0;32mnot\u001b[0m \u001b[0mchunked\u001b[0m\u001b[0;34m:\u001b[0m\u001b[0;34m\u001b[0m\u001b[0;34m\u001b[0m\u001b[0m\n\u001b[0;32m--> 439\u001b[0;31m                 resp = conn.urlopen(\n\u001b[0m\u001b[1;32m    440\u001b[0m                     \u001b[0mmethod\u001b[0m\u001b[0;34m=\u001b[0m\u001b[0mrequest\u001b[0m\u001b[0;34m.\u001b[0m\u001b[0mmethod\u001b[0m\u001b[0;34m,\u001b[0m\u001b[0;34m\u001b[0m\u001b[0;34m\u001b[0m\u001b[0m\n\u001b[1;32m    441\u001b[0m                     \u001b[0murl\u001b[0m\u001b[0;34m=\u001b[0m\u001b[0murl\u001b[0m\u001b[0;34m,\u001b[0m\u001b[0;34m\u001b[0m\u001b[0;34m\u001b[0m\u001b[0m\n",
      "\u001b[0;32m/opt/anaconda3/lib/python3.9/site-packages/urllib3/connectionpool.py\u001b[0m in \u001b[0;36murlopen\u001b[0;34m(self, method, url, body, headers, retries, redirect, assert_same_host, timeout, pool_timeout, release_conn, chunked, body_pos, **response_kw)\u001b[0m\n\u001b[1;32m    697\u001b[0m \u001b[0;34m\u001b[0m\u001b[0m\n\u001b[1;32m    698\u001b[0m             \u001b[0;31m# Make the request on the httplib connection object.\u001b[0m\u001b[0;34m\u001b[0m\u001b[0;34m\u001b[0m\u001b[0m\n\u001b[0;32m--> 699\u001b[0;31m             httplib_response = self._make_request(\n\u001b[0m\u001b[1;32m    700\u001b[0m                 \u001b[0mconn\u001b[0m\u001b[0;34m,\u001b[0m\u001b[0;34m\u001b[0m\u001b[0;34m\u001b[0m\u001b[0m\n\u001b[1;32m    701\u001b[0m                 \u001b[0mmethod\u001b[0m\u001b[0;34m,\u001b[0m\u001b[0;34m\u001b[0m\u001b[0;34m\u001b[0m\u001b[0m\n",
      "\u001b[0;32m/opt/anaconda3/lib/python3.9/site-packages/urllib3/connectionpool.py\u001b[0m in \u001b[0;36m_make_request\u001b[0;34m(self, conn, method, url, timeout, chunked, **httplib_request_kw)\u001b[0m\n\u001b[1;32m    380\u001b[0m         \u001b[0;31m# Trigger any extra validation we need to do.\u001b[0m\u001b[0;34m\u001b[0m\u001b[0;34m\u001b[0m\u001b[0m\n\u001b[1;32m    381\u001b[0m         \u001b[0;32mtry\u001b[0m\u001b[0;34m:\u001b[0m\u001b[0;34m\u001b[0m\u001b[0;34m\u001b[0m\u001b[0m\n\u001b[0;32m--> 382\u001b[0;31m             \u001b[0mself\u001b[0m\u001b[0;34m.\u001b[0m\u001b[0m_validate_conn\u001b[0m\u001b[0;34m(\u001b[0m\u001b[0mconn\u001b[0m\u001b[0;34m)\u001b[0m\u001b[0;34m\u001b[0m\u001b[0;34m\u001b[0m\u001b[0m\n\u001b[0m\u001b[1;32m    383\u001b[0m         \u001b[0;32mexcept\u001b[0m \u001b[0;34m(\u001b[0m\u001b[0mSocketTimeout\u001b[0m\u001b[0;34m,\u001b[0m \u001b[0mBaseSSLError\u001b[0m\u001b[0;34m)\u001b[0m \u001b[0;32mas\u001b[0m \u001b[0me\u001b[0m\u001b[0;34m:\u001b[0m\u001b[0;34m\u001b[0m\u001b[0;34m\u001b[0m\u001b[0m\n\u001b[1;32m    384\u001b[0m             \u001b[0;31m# Py2 raises this as a BaseSSLError, Py3 raises it as socket timeout.\u001b[0m\u001b[0;34m\u001b[0m\u001b[0;34m\u001b[0m\u001b[0m\n",
      "\u001b[0;32m/opt/anaconda3/lib/python3.9/site-packages/urllib3/connectionpool.py\u001b[0m in \u001b[0;36m_validate_conn\u001b[0;34m(self, conn)\u001b[0m\n\u001b[1;32m   1008\u001b[0m         \u001b[0;31m# Force connect early to allow us to validate the connection.\u001b[0m\u001b[0;34m\u001b[0m\u001b[0;34m\u001b[0m\u001b[0m\n\u001b[1;32m   1009\u001b[0m         \u001b[0;32mif\u001b[0m \u001b[0;32mnot\u001b[0m \u001b[0mgetattr\u001b[0m\u001b[0;34m(\u001b[0m\u001b[0mconn\u001b[0m\u001b[0;34m,\u001b[0m \u001b[0;34m\"sock\"\u001b[0m\u001b[0;34m,\u001b[0m \u001b[0;32mNone\u001b[0m\u001b[0;34m)\u001b[0m\u001b[0;34m:\u001b[0m  \u001b[0;31m# AppEngine might not have  `.sock`\u001b[0m\u001b[0;34m\u001b[0m\u001b[0;34m\u001b[0m\u001b[0m\n\u001b[0;32m-> 1010\u001b[0;31m             \u001b[0mconn\u001b[0m\u001b[0;34m.\u001b[0m\u001b[0mconnect\u001b[0m\u001b[0;34m(\u001b[0m\u001b[0;34m)\u001b[0m\u001b[0;34m\u001b[0m\u001b[0;34m\u001b[0m\u001b[0m\n\u001b[0m\u001b[1;32m   1011\u001b[0m \u001b[0;34m\u001b[0m\u001b[0m\n\u001b[1;32m   1012\u001b[0m         \u001b[0;32mif\u001b[0m \u001b[0;32mnot\u001b[0m \u001b[0mconn\u001b[0m\u001b[0;34m.\u001b[0m\u001b[0mis_verified\u001b[0m\u001b[0;34m:\u001b[0m\u001b[0;34m\u001b[0m\u001b[0;34m\u001b[0m\u001b[0m\n",
      "\u001b[0;32m/opt/anaconda3/lib/python3.9/site-packages/urllib3/connection.py\u001b[0m in \u001b[0;36mconnect\u001b[0;34m(self)\u001b[0m\n\u001b[1;32m    356\u001b[0m     \u001b[0;32mdef\u001b[0m \u001b[0mconnect\u001b[0m\u001b[0;34m(\u001b[0m\u001b[0mself\u001b[0m\u001b[0;34m)\u001b[0m\u001b[0;34m:\u001b[0m\u001b[0;34m\u001b[0m\u001b[0;34m\u001b[0m\u001b[0m\n\u001b[1;32m    357\u001b[0m         \u001b[0;31m# Add certificate verification\u001b[0m\u001b[0;34m\u001b[0m\u001b[0;34m\u001b[0m\u001b[0m\n\u001b[0;32m--> 358\u001b[0;31m         \u001b[0mconn\u001b[0m \u001b[0;34m=\u001b[0m \u001b[0mself\u001b[0m\u001b[0;34m.\u001b[0m\u001b[0m_new_conn\u001b[0m\u001b[0;34m(\u001b[0m\u001b[0;34m)\u001b[0m\u001b[0;34m\u001b[0m\u001b[0;34m\u001b[0m\u001b[0m\n\u001b[0m\u001b[1;32m    359\u001b[0m         \u001b[0mhostname\u001b[0m \u001b[0;34m=\u001b[0m \u001b[0mself\u001b[0m\u001b[0;34m.\u001b[0m\u001b[0mhost\u001b[0m\u001b[0;34m\u001b[0m\u001b[0;34m\u001b[0m\u001b[0m\n\u001b[1;32m    360\u001b[0m         \u001b[0mtls_in_tls\u001b[0m \u001b[0;34m=\u001b[0m \u001b[0;32mFalse\u001b[0m\u001b[0;34m\u001b[0m\u001b[0;34m\u001b[0m\u001b[0m\n",
      "\u001b[0;32m/opt/anaconda3/lib/python3.9/site-packages/urllib3/connection.py\u001b[0m in \u001b[0;36m_new_conn\u001b[0;34m(self)\u001b[0m\n\u001b[1;32m    172\u001b[0m \u001b[0;34m\u001b[0m\u001b[0m\n\u001b[1;32m    173\u001b[0m         \u001b[0;32mtry\u001b[0m\u001b[0;34m:\u001b[0m\u001b[0;34m\u001b[0m\u001b[0;34m\u001b[0m\u001b[0m\n\u001b[0;32m--> 174\u001b[0;31m             conn = connection.create_connection(\n\u001b[0m\u001b[1;32m    175\u001b[0m                 \u001b[0;34m(\u001b[0m\u001b[0mself\u001b[0m\u001b[0;34m.\u001b[0m\u001b[0m_dns_host\u001b[0m\u001b[0;34m,\u001b[0m \u001b[0mself\u001b[0m\u001b[0;34m.\u001b[0m\u001b[0mport\u001b[0m\u001b[0;34m)\u001b[0m\u001b[0;34m,\u001b[0m \u001b[0mself\u001b[0m\u001b[0;34m.\u001b[0m\u001b[0mtimeout\u001b[0m\u001b[0;34m,\u001b[0m \u001b[0;34m**\u001b[0m\u001b[0mextra_kw\u001b[0m\u001b[0;34m\u001b[0m\u001b[0;34m\u001b[0m\u001b[0m\n\u001b[1;32m    176\u001b[0m             )\n",
      "\u001b[0;32m/opt/anaconda3/lib/python3.9/site-packages/urllib3/util/connection.py\u001b[0m in \u001b[0;36mcreate_connection\u001b[0;34m(address, timeout, source_address, socket_options)\u001b[0m\n\u001b[1;32m     84\u001b[0m             \u001b[0;32mif\u001b[0m \u001b[0msource_address\u001b[0m\u001b[0;34m:\u001b[0m\u001b[0;34m\u001b[0m\u001b[0;34m\u001b[0m\u001b[0m\n\u001b[1;32m     85\u001b[0m                 \u001b[0msock\u001b[0m\u001b[0;34m.\u001b[0m\u001b[0mbind\u001b[0m\u001b[0;34m(\u001b[0m\u001b[0msource_address\u001b[0m\u001b[0;34m)\u001b[0m\u001b[0;34m\u001b[0m\u001b[0;34m\u001b[0m\u001b[0m\n\u001b[0;32m---> 86\u001b[0;31m             \u001b[0msock\u001b[0m\u001b[0;34m.\u001b[0m\u001b[0mconnect\u001b[0m\u001b[0;34m(\u001b[0m\u001b[0msa\u001b[0m\u001b[0;34m)\u001b[0m\u001b[0;34m\u001b[0m\u001b[0;34m\u001b[0m\u001b[0m\n\u001b[0m\u001b[1;32m     87\u001b[0m             \u001b[0;32mreturn\u001b[0m \u001b[0msock\u001b[0m\u001b[0;34m\u001b[0m\u001b[0;34m\u001b[0m\u001b[0m\n\u001b[1;32m     88\u001b[0m \u001b[0;34m\u001b[0m\u001b[0m\n",
      "\u001b[0;31mKeyboardInterrupt\u001b[0m: "
     ]
    }
   ],
   "source": [
    "asset_df = pd.DataFrame()\n",
    "for i in range(8):\n",
    "        # data = koios_mainnet.get_asset_list(content_range=\"{}-{}\".format(i*1000,(i+1)*1000))\n",
    "        # print(data)\n",
    "        # print(koios_mainnet.get_asset_list(content_range=\"{}-{}\".format(i*1000,(i+1)*1000)))\n",
    "        asset_data = get_asset_list(content_range=\"{}-{}\".format(i*1000,(i+1)*1000))\n",
    "        # print(asset_data)\n",
    "        if len(asset_data) > 0:\n",
    "                asset_df = pd.concat([asset_df, asset_data], axis=0, join='outer')\n"
   ]
  },
  {
   "cell_type": "code",
   "execution_count": null,
   "metadata": {},
   "outputs": [
    {
     "data": {
      "text/html": [
       "<div>\n",
       "<style scoped>\n",
       "    .dataframe tbody tr th:only-of-type {\n",
       "        vertical-align: middle;\n",
       "    }\n",
       "\n",
       "    .dataframe tbody tr th {\n",
       "        vertical-align: top;\n",
       "    }\n",
       "\n",
       "    .dataframe thead th {\n",
       "        text-align: right;\n",
       "    }\n",
       "</style>\n",
       "<table border=\"1\" class=\"dataframe\">\n",
       "  <thead>\n",
       "    <tr style=\"text-align: right;\">\n",
       "      <th></th>\n",
       "      <th>policy_id</th>\n",
       "      <th>asset_name</th>\n",
       "      <th>fingerprint</th>\n",
       "    </tr>\n",
       "  </thead>\n",
       "  <tbody>\n",
       "    <tr>\n",
       "      <th>0</th>\n",
       "      <td>00000002df633853f6a47465c9496721d2d5b1291b8398...</td>\n",
       "      <td>6e7574636f696e</td>\n",
       "      <td>asset12h3p5l3nd5y26lr22am7y7ga3vxghkhf57zkhd</td>\n",
       "    </tr>\n",
       "    <tr>\n",
       "      <th>1</th>\n",
       "      <td>000000adf8fcbdf03a5c154123aff674edf287fb13532a...</td>\n",
       "      <td>5853534e4654</td>\n",
       "      <td>asset1ke42k9ug86yr535qwkq5edlvfdvlpfuslrmfup</td>\n",
       "    </tr>\n",
       "    <tr>\n",
       "      <th>2</th>\n",
       "      <td>000006126365b110b339bd39c5b5c0fc89eb146cc186ba...</td>\n",
       "      <td>5061696e7465724e656b6f4f7263686172643031</td>\n",
       "      <td>asset1xedcm62nhn8hv0644apeydjppudtuqxm0nyvxq</td>\n",
       "    </tr>\n",
       "    <tr>\n",
       "      <th>3</th>\n",
       "      <td>000006126365b110b339bd39c5b5c0fc89eb146cc186ba...</td>\n",
       "      <td>5061696e7465724e656b6f4f7263686172643032</td>\n",
       "      <td>asset1c8lfga60kvftykq9a65naml07633zqwe883gaj</td>\n",
       "    </tr>\n",
       "    <tr>\n",
       "      <th>4</th>\n",
       "      <td>000006126365b110b339bd39c5b5c0fc89eb146cc186ba...</td>\n",
       "      <td>5061696e7465724e656b6f4f7263686172643033</td>\n",
       "      <td>asset1kuezrt73hk9pp93skjl2jezn3etnyhmr6ezmru</td>\n",
       "    </tr>\n",
       "    <tr>\n",
       "      <th>...</th>\n",
       "      <td>...</td>\n",
       "      <td>...</td>\n",
       "      <td>...</td>\n",
       "    </tr>\n",
       "    <tr>\n",
       "      <th>995</th>\n",
       "      <td>1fd6e3b849e864206e24b9fe83eef31837956337951da2...</td>\n",
       "      <td>4d656368416e696d616c73536572696573314d656d6265...</td>\n",
       "      <td>asset1lm23gun2ek0pwwyqe9t7723t9wxl9se4n34e87</td>\n",
       "    </tr>\n",
       "    <tr>\n",
       "      <th>996</th>\n",
       "      <td>1fd6e3b849e864206e24b9fe83eef31837956337951da2...</td>\n",
       "      <td>4d656368416e696d616c73536572696573314d656d6265...</td>\n",
       "      <td>asset1khapqm6vpxtxygjz6mmc75260cn3keyc9ku6s8</td>\n",
       "    </tr>\n",
       "    <tr>\n",
       "      <th>997</th>\n",
       "      <td>1fd6e3b849e864206e24b9fe83eef31837956337951da2...</td>\n",
       "      <td>4d656368416e696d616c73536572696573314d656d6265...</td>\n",
       "      <td>asset1n56d99k35s7satjn9242me87jr7fu8c5n549m6</td>\n",
       "    </tr>\n",
       "    <tr>\n",
       "      <th>998</th>\n",
       "      <td>1fd6e3b849e864206e24b9fe83eef31837956337951da2...</td>\n",
       "      <td>4d656368416e696d616c73536572696573314d656d6265...</td>\n",
       "      <td>asset1nsehwa793pelk6sf04h6awl00k0szywjfyy4vy</td>\n",
       "    </tr>\n",
       "    <tr>\n",
       "      <th>999</th>\n",
       "      <td>1fd6e3b849e864206e24b9fe83eef31837956337951da2...</td>\n",
       "      <td>4d656368416e696d616c73536572696573314d656d6265...</td>\n",
       "      <td>asset1yhuzl8wlcp7pfeuc6ljzuvvzhhm5w3spr97k2j</td>\n",
       "    </tr>\n",
       "  </tbody>\n",
       "</table>\n",
       "<p>800000 rows × 3 columns</p>\n",
       "</div>"
      ],
      "text/plain": [
       "                                             policy_id  \\\n",
       "0    00000002df633853f6a47465c9496721d2d5b1291b8398...   \n",
       "1    000000adf8fcbdf03a5c154123aff674edf287fb13532a...   \n",
       "2    000006126365b110b339bd39c5b5c0fc89eb146cc186ba...   \n",
       "3    000006126365b110b339bd39c5b5c0fc89eb146cc186ba...   \n",
       "4    000006126365b110b339bd39c5b5c0fc89eb146cc186ba...   \n",
       "..                                                 ...   \n",
       "995  1fd6e3b849e864206e24b9fe83eef31837956337951da2...   \n",
       "996  1fd6e3b849e864206e24b9fe83eef31837956337951da2...   \n",
       "997  1fd6e3b849e864206e24b9fe83eef31837956337951da2...   \n",
       "998  1fd6e3b849e864206e24b9fe83eef31837956337951da2...   \n",
       "999  1fd6e3b849e864206e24b9fe83eef31837956337951da2...   \n",
       "\n",
       "                                            asset_name  \\\n",
       "0                                       6e7574636f696e   \n",
       "1                                         5853534e4654   \n",
       "2             5061696e7465724e656b6f4f7263686172643031   \n",
       "3             5061696e7465724e656b6f4f7263686172643032   \n",
       "4             5061696e7465724e656b6f4f7263686172643033   \n",
       "..                                                 ...   \n",
       "995  4d656368416e696d616c73536572696573314d656d6265...   \n",
       "996  4d656368416e696d616c73536572696573314d656d6265...   \n",
       "997  4d656368416e696d616c73536572696573314d656d6265...   \n",
       "998  4d656368416e696d616c73536572696573314d656d6265...   \n",
       "999  4d656368416e696d616c73536572696573314d656d6265...   \n",
       "\n",
       "                                      fingerprint  \n",
       "0    asset12h3p5l3nd5y26lr22am7y7ga3vxghkhf57zkhd  \n",
       "1    asset1ke42k9ug86yr535qwkq5edlvfdvlpfuslrmfup  \n",
       "2    asset1xedcm62nhn8hv0644apeydjppudtuqxm0nyvxq  \n",
       "3    asset1c8lfga60kvftykq9a65naml07633zqwe883gaj  \n",
       "4    asset1kuezrt73hk9pp93skjl2jezn3etnyhmr6ezmru  \n",
       "..                                            ...  \n",
       "995  asset1lm23gun2ek0pwwyqe9t7723t9wxl9se4n34e87  \n",
       "996  asset1khapqm6vpxtxygjz6mmc75260cn3keyc9ku6s8  \n",
       "997  asset1n56d99k35s7satjn9242me87jr7fu8c5n549m6  \n",
       "998  asset1nsehwa793pelk6sf04h6awl00k0szywjfyy4vy  \n",
       "999  asset1yhuzl8wlcp7pfeuc6ljzuvvzhhm5w3spr97k2j  \n",
       "\n",
       "[800000 rows x 3 columns]"
      ]
     },
     "execution_count": 16,
     "metadata": {},
     "output_type": "execute_result"
    }
   ],
   "source": [
    "asset_df"
   ]
  },
  {
   "cell_type": "code",
   "execution_count": null,
   "metadata": {},
   "outputs": [],
   "source": [
    "asset_df.drop_duplicates(subset=['fingerprint'], inplace=True)"
   ]
  },
  {
   "cell_type": "code",
   "execution_count": null,
   "metadata": {},
   "outputs": [
    {
     "data": {
      "text/html": [
       "<div>\n",
       "<style scoped>\n",
       "    .dataframe tbody tr th:only-of-type {\n",
       "        vertical-align: middle;\n",
       "    }\n",
       "\n",
       "    .dataframe tbody tr th {\n",
       "        vertical-align: top;\n",
       "    }\n",
       "\n",
       "    .dataframe thead th {\n",
       "        text-align: right;\n",
       "    }\n",
       "</style>\n",
       "<table border=\"1\" class=\"dataframe\">\n",
       "  <thead>\n",
       "    <tr style=\"text-align: right;\">\n",
       "      <th></th>\n",
       "      <th>policy_id</th>\n",
       "      <th>asset_name</th>\n",
       "      <th>fingerprint</th>\n",
       "    </tr>\n",
       "  </thead>\n",
       "  <tbody>\n",
       "    <tr>\n",
       "      <th>0</th>\n",
       "      <td>00000002df633853f6a47465c9496721d2d5b1291b8398...</td>\n",
       "      <td>6e7574636f696e</td>\n",
       "      <td>asset12h3p5l3nd5y26lr22am7y7ga3vxghkhf57zkhd</td>\n",
       "    </tr>\n",
       "    <tr>\n",
       "      <th>1</th>\n",
       "      <td>000000adf8fcbdf03a5c154123aff674edf287fb13532a...</td>\n",
       "      <td>5853534e4654</td>\n",
       "      <td>asset1ke42k9ug86yr535qwkq5edlvfdvlpfuslrmfup</td>\n",
       "    </tr>\n",
       "    <tr>\n",
       "      <th>2</th>\n",
       "      <td>000006126365b110b339bd39c5b5c0fc89eb146cc186ba...</td>\n",
       "      <td>5061696e7465724e656b6f4f7263686172643031</td>\n",
       "      <td>asset1xedcm62nhn8hv0644apeydjppudtuqxm0nyvxq</td>\n",
       "    </tr>\n",
       "    <tr>\n",
       "      <th>3</th>\n",
       "      <td>000006126365b110b339bd39c5b5c0fc89eb146cc186ba...</td>\n",
       "      <td>5061696e7465724e656b6f4f7263686172643032</td>\n",
       "      <td>asset1c8lfga60kvftykq9a65naml07633zqwe883gaj</td>\n",
       "    </tr>\n",
       "    <tr>\n",
       "      <th>4</th>\n",
       "      <td>000006126365b110b339bd39c5b5c0fc89eb146cc186ba...</td>\n",
       "      <td>5061696e7465724e656b6f4f7263686172643033</td>\n",
       "      <td>asset1kuezrt73hk9pp93skjl2jezn3etnyhmr6ezmru</td>\n",
       "    </tr>\n",
       "    <tr>\n",
       "      <th>...</th>\n",
       "      <td>...</td>\n",
       "      <td>...</td>\n",
       "      <td>...</td>\n",
       "    </tr>\n",
       "    <tr>\n",
       "      <th>799995</th>\n",
       "      <td>1fd6e3b849e864206e24b9fe83eef31837956337951da2...</td>\n",
       "      <td>4d656368416e696d616c73536572696573314d656d6265...</td>\n",
       "      <td>asset1lm23gun2ek0pwwyqe9t7723t9wxl9se4n34e87</td>\n",
       "    </tr>\n",
       "    <tr>\n",
       "      <th>799996</th>\n",
       "      <td>1fd6e3b849e864206e24b9fe83eef31837956337951da2...</td>\n",
       "      <td>4d656368416e696d616c73536572696573314d656d6265...</td>\n",
       "      <td>asset1khapqm6vpxtxygjz6mmc75260cn3keyc9ku6s8</td>\n",
       "    </tr>\n",
       "    <tr>\n",
       "      <th>799997</th>\n",
       "      <td>1fd6e3b849e864206e24b9fe83eef31837956337951da2...</td>\n",
       "      <td>4d656368416e696d616c73536572696573314d656d6265...</td>\n",
       "      <td>asset1n56d99k35s7satjn9242me87jr7fu8c5n549m6</td>\n",
       "    </tr>\n",
       "    <tr>\n",
       "      <th>799998</th>\n",
       "      <td>1fd6e3b849e864206e24b9fe83eef31837956337951da2...</td>\n",
       "      <td>4d656368416e696d616c73536572696573314d656d6265...</td>\n",
       "      <td>asset1nsehwa793pelk6sf04h6awl00k0szywjfyy4vy</td>\n",
       "    </tr>\n",
       "    <tr>\n",
       "      <th>799999</th>\n",
       "      <td>1fd6e3b849e864206e24b9fe83eef31837956337951da2...</td>\n",
       "      <td>4d656368416e696d616c73536572696573314d656d6265...</td>\n",
       "      <td>asset1yhuzl8wlcp7pfeuc6ljzuvvzhhm5w3spr97k2j</td>\n",
       "    </tr>\n",
       "  </tbody>\n",
       "</table>\n",
       "<p>800000 rows × 3 columns</p>\n",
       "</div>"
      ],
      "text/plain": [
       "                                                policy_id  \\\n",
       "0       00000002df633853f6a47465c9496721d2d5b1291b8398...   \n",
       "1       000000adf8fcbdf03a5c154123aff674edf287fb13532a...   \n",
       "2       000006126365b110b339bd39c5b5c0fc89eb146cc186ba...   \n",
       "3       000006126365b110b339bd39c5b5c0fc89eb146cc186ba...   \n",
       "4       000006126365b110b339bd39c5b5c0fc89eb146cc186ba...   \n",
       "...                                                   ...   \n",
       "799995  1fd6e3b849e864206e24b9fe83eef31837956337951da2...   \n",
       "799996  1fd6e3b849e864206e24b9fe83eef31837956337951da2...   \n",
       "799997  1fd6e3b849e864206e24b9fe83eef31837956337951da2...   \n",
       "799998  1fd6e3b849e864206e24b9fe83eef31837956337951da2...   \n",
       "799999  1fd6e3b849e864206e24b9fe83eef31837956337951da2...   \n",
       "\n",
       "                                               asset_name  \\\n",
       "0                                          6e7574636f696e   \n",
       "1                                            5853534e4654   \n",
       "2                5061696e7465724e656b6f4f7263686172643031   \n",
       "3                5061696e7465724e656b6f4f7263686172643032   \n",
       "4                5061696e7465724e656b6f4f7263686172643033   \n",
       "...                                                   ...   \n",
       "799995  4d656368416e696d616c73536572696573314d656d6265...   \n",
       "799996  4d656368416e696d616c73536572696573314d656d6265...   \n",
       "799997  4d656368416e696d616c73536572696573314d656d6265...   \n",
       "799998  4d656368416e696d616c73536572696573314d656d6265...   \n",
       "799999  4d656368416e696d616c73536572696573314d656d6265...   \n",
       "\n",
       "                                         fingerprint  \n",
       "0       asset12h3p5l3nd5y26lr22am7y7ga3vxghkhf57zkhd  \n",
       "1       asset1ke42k9ug86yr535qwkq5edlvfdvlpfuslrmfup  \n",
       "2       asset1xedcm62nhn8hv0644apeydjppudtuqxm0nyvxq  \n",
       "3       asset1c8lfga60kvftykq9a65naml07633zqwe883gaj  \n",
       "4       asset1kuezrt73hk9pp93skjl2jezn3etnyhmr6ezmru  \n",
       "...                                              ...  \n",
       "799995  asset1lm23gun2ek0pwwyqe9t7723t9wxl9se4n34e87  \n",
       "799996  asset1khapqm6vpxtxygjz6mmc75260cn3keyc9ku6s8  \n",
       "799997  asset1n56d99k35s7satjn9242me87jr7fu8c5n549m6  \n",
       "799998  asset1nsehwa793pelk6sf04h6awl00k0szywjfyy4vy  \n",
       "799999  asset1yhuzl8wlcp7pfeuc6ljzuvvzhhm5w3spr97k2j  \n",
       "\n",
       "[800000 rows x 3 columns]"
      ]
     },
     "execution_count": 18,
     "metadata": {},
     "output_type": "execute_result"
    }
   ],
   "source": [
    "# want the index to be just the number of rows in the dataframe\n",
    "asset_df.index = range(len(asset_df))\n",
    "asset_df"
   ]
  },
  {
   "attachments": {},
   "cell_type": "markdown",
   "metadata": {},
   "source": [
    "How many wallets hold a specific asset or token?"
   ]
  },
  {
   "cell_type": "code",
   "execution_count": null,
   "metadata": {},
   "outputs": [
    {
     "data": {
      "text/plain": [
       "{'policy_id': '000077e4f562322fc25f79335f7b309a89347626e4d7a64598b0b927',\n",
       " 'asset_name': '53756d6d65725363656e654461794f6e65303233',\n",
       " 'fingerprint': 'asset18mlzwmdw2ggyj80ecg7thnjnucppuy70y7ddav'}"
      ]
     },
     "execution_count": 11,
     "metadata": {},
     "output_type": "execute_result"
    }
   ],
   "source": [
    "asset_df[0][93]"
   ]
  },
  {
   "cell_type": "code",
   "execution_count": null,
   "metadata": {},
   "outputs": [
    {
     "data": {
      "text/plain": [
       "{'policy_id': '000077e4f562322fc25f79335f7b309a89347626e4d7a64598b0b927',\n",
       " 'asset_name': '53756d6d65725363656e654461794f6e65303235',\n",
       " 'fingerprint': 'asset1m3ke2eqguyqfud3gk4pu3l0m7e8078m43evewj'}"
      ]
     },
     "execution_count": 12,
     "metadata": {},
     "output_type": "execute_result"
    }
   ],
   "source": [
    "asset_df[0][95]"
   ]
  },
  {
   "attachments": {},
   "cell_type": "markdown",
   "metadata": {},
   "source": [
    "Pool information\n",
    "\n",
    "Pool's history?\n",
    "\n",
    "How many pools are there?"
   ]
  },
  {
   "cell_type": "code",
   "execution_count": null,
   "metadata": {},
   "outputs": [
    {
     "data": {
      "text/plain": [
       "{'policy_id': '000077e4f562322fc25f79335f7b309a89347626e4d7a64598b0b927',\n",
       " 'asset_name': '53756d6d65725363656e654461794f6e65303330',\n",
       " 'fingerprint': 'asset1tmusxscqcpycx8ms5ywwhd9vclfqzxykgpzxml'}"
      ]
     },
     "execution_count": 15,
     "metadata": {},
     "output_type": "execute_result"
    }
   ],
   "source": [
    "asset_df[0][100]"
   ]
  },
  {
   "attachments": {},
   "cell_type": "markdown",
   "metadata": {},
   "source": []
  },
  {
   "cell_type": "code",
   "execution_count": null,
   "metadata": {},
   "outputs": [],
   "source": []
  }
 ],
 "metadata": {
  "kernelspec": {
   "display_name": "base",
   "language": "python",
   "name": "python3"
  },
  "language_info": {
   "codemirror_mode": {
    "name": "ipython",
    "version": 3
   },
   "file_extension": ".py",
   "mimetype": "text/x-python",
   "name": "python",
   "nbconvert_exporter": "python",
   "pygments_lexer": "ipython3",
   "version": "3.9.7"
  },
  "orig_nbformat": 4,
  "vscode": {
   "interpreter": {
    "hash": "40d3a090f54c6569ab1632332b64b2c03c39dcf918b08424e98f38b5ae0af88f"
   }
  }
 },
 "nbformat": 4,
 "nbformat_minor": 2
}
