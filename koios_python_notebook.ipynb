{
 "cells": [
  {
   "cell_type": "code",
   "execution_count": 17,
   "metadata": {},
   "outputs": [],
   "source": [
    "#Importing packages\n",
    "#\n",
    "# You can delete whatever package(s) you want..\n",
    "#\n",
    "# import os\n",
    "# import json\n",
    "# import time\n",
    "# import requests\n",
    "import math as m\n",
    "import pandas as pd\n",
    "import numpy as np\n",
    "import koios_python\n",
    "import matplotlib.pyplot as plt\n",
    "\n",
    "\n",
    "\n",
    "# Because most of my data sets I have made can have up to 30+ columns and 20+ rows\n",
    "# code below will increase pandas defaults for max rows \n",
    "# and columns that you can display in a Juptyer Notebook\n",
    "pd.options.display.max_columns = 60\n",
    "pd.options.display.max_rows = 1000"
   ]
  },
  {
   "attachments": {},
   "cell_type": "markdown",
   "metadata": {},
   "source": [
    "## NoteBook 1\n"
   ]
  },
  {
   "attachments": {},
   "cell_type": "markdown",
   "metadata": {},
   "source": [
    "In this Notebook we will be going over how to use the koios_python library in various scenarios a developer may face. The first thing we need to do is\n",
    "\n",
    "create a class instance for koios_python and choose what network we would like to use for our queries, in this tutorial we will use mainnet but the \n",
    "\n",
    "library supports all the various developer networks available including preview, preprod, guild, and mainnet."
   ]
  },
  {
   "cell_type": "code",
   "execution_count": 7,
   "metadata": {},
   "outputs": [
    {
     "data": {
      "text/html": [
       "<div>\n",
       "<style scoped>\n",
       "    .dataframe tbody tr th:only-of-type {\n",
       "        vertical-align: middle;\n",
       "    }\n",
       "\n",
       "    .dataframe tbody tr th {\n",
       "        vertical-align: top;\n",
       "    }\n",
       "\n",
       "    .dataframe thead th {\n",
       "        text-align: right;\n",
       "    }\n",
       "</style>\n",
       "<table border=\"1\" class=\"dataframe\">\n",
       "  <thead>\n",
       "    <tr style=\"text-align: right;\">\n",
       "      <th></th>\n",
       "      <th>hash</th>\n",
       "      <th>epoch_no</th>\n",
       "      <th>abs_slot</th>\n",
       "      <th>epoch_slot</th>\n",
       "      <th>block_no</th>\n",
       "      <th>block_time</th>\n",
       "    </tr>\n",
       "  </thead>\n",
       "  <tbody>\n",
       "    <tr>\n",
       "      <th>0</th>\n",
       "      <td>7cd98728840ab73a0fceeb1cc65a82a0aea9fa58db46b0...</td>\n",
       "      <td>386</td>\n",
       "      <td>81748940</td>\n",
       "      <td>360140</td>\n",
       "      <td>8250215</td>\n",
       "      <td>1673315231</td>\n",
       "    </tr>\n",
       "  </tbody>\n",
       "</table>\n",
       "</div>"
      ],
      "text/plain": [
       "                                                hash  epoch_no  abs_slot  \\\n",
       "0  7cd98728840ab73a0fceeb1cc65a82a0aea9fa58db46b0...       386  81748940   \n",
       "\n",
       "   epoch_slot  block_no  block_time  \n",
       "0      360140   8250215  1673315231  "
      ]
     },
     "execution_count": 7,
     "metadata": {},
     "output_type": "execute_result"
    }
   ],
   "source": [
    "# create a koios server object with network set to mainnet (default network if not set by user is mainnet)\n",
    "# koios_python.URLs(network=\"mainnet\")\n",
    "kp_mainnet = koios_python.URLs()\n",
    "\n",
    "# let's check the current tip of the mainnet\n",
    "current_tip = kp_mainnet.get_tip()\n",
    "\n",
    "# Let's make it into a pandas dataframe and display it\n",
    "current_tip_df = pd.DataFrame(current_tip)\n",
    "current_tip_df"
   ]
  },
  {
   "attachments": {},
   "cell_type": "markdown",
   "metadata": {},
   "source": [
    "Depending on what it is your try to build it is common to need the current tip from the blockchain and KOIOS API has a endpoint made just for it. The tip of the block_chain is the latest block made in the current epoch which is epoch 386. The KOIOS API endpoint we are querying is in the network category and can be found in their documentation [here](https://api.koios.rest/#get-/tip).\n",
    "\n",
    "As you can see from running the code cell above we can easily obtain a object containing the JSON response for querying the tip of the blockchain that gives us some nice information that can be used in a application such as block hash, epoch number, epoch slot number, absolute slot number (this goes back to genesis), bloch height number, and a unix timestamp that can be used to convert to human readable times easily."
   ]
  },
  {
   "attachments": {},
   "cell_type": "markdown",
   "metadata": {},
   "source": [
    "I would like to show a quick graph of the distribution of blocks made by Cardano Node versions run by validators (stake-pools) and check to make sure we have most Stake Pool operators on the correct node version.\n",
    "\n",
    "In order to do this we can firstly query the Epoch Parameters KOIOS API endpoint to see what is the current minimum blockchain protocol version needed. Then we will query the Epoch Block Protocols endpoint to see the distribution of blocks made by various versions.\n"
   ]
  },
  {
   "cell_type": "code",
   "execution_count": 10,
   "metadata": {},
   "outputs": [
    {
     "data": {
      "text/html": [
       "<div>\n",
       "<style scoped>\n",
       "    .dataframe tbody tr th:only-of-type {\n",
       "        vertical-align: middle;\n",
       "    }\n",
       "\n",
       "    .dataframe tbody tr th {\n",
       "        vertical-align: top;\n",
       "    }\n",
       "\n",
       "    .dataframe thead th {\n",
       "        text-align: right;\n",
       "    }\n",
       "</style>\n",
       "<table border=\"1\" class=\"dataframe\">\n",
       "  <thead>\n",
       "    <tr style=\"text-align: right;\">\n",
       "      <th></th>\n",
       "      <th>epoch_no</th>\n",
       "      <th>min_fee_a</th>\n",
       "      <th>min_fee_b</th>\n",
       "      <th>max_block_size</th>\n",
       "      <th>max_tx_size</th>\n",
       "      <th>max_bh_size</th>\n",
       "      <th>key_deposit</th>\n",
       "      <th>pool_deposit</th>\n",
       "      <th>max_epoch</th>\n",
       "      <th>optimal_pool_count</th>\n",
       "      <th>influence</th>\n",
       "      <th>monetary_expand_rate</th>\n",
       "      <th>treasury_growth_rate</th>\n",
       "      <th>decentralisation</th>\n",
       "      <th>extra_entropy</th>\n",
       "      <th>protocol_major</th>\n",
       "      <th>protocol_minor</th>\n",
       "      <th>min_utxo_value</th>\n",
       "      <th>min_pool_cost</th>\n",
       "      <th>nonce</th>\n",
       "      <th>block_hash</th>\n",
       "      <th>cost_models</th>\n",
       "      <th>price_mem</th>\n",
       "      <th>price_step</th>\n",
       "      <th>max_tx_ex_mem</th>\n",
       "      <th>max_tx_ex_steps</th>\n",
       "      <th>max_block_ex_mem</th>\n",
       "      <th>max_block_ex_steps</th>\n",
       "      <th>max_val_size</th>\n",
       "      <th>collateral_percent</th>\n",
       "      <th>max_collateral_inputs</th>\n",
       "      <th>coins_per_utxo_size</th>\n",
       "    </tr>\n",
       "  </thead>\n",
       "  <tbody>\n",
       "    <tr>\n",
       "      <th>0</th>\n",
       "      <td>386</td>\n",
       "      <td>44</td>\n",
       "      <td>155381</td>\n",
       "      <td>90112</td>\n",
       "      <td>16384</td>\n",
       "      <td>1100</td>\n",
       "      <td>2000000</td>\n",
       "      <td>500000000</td>\n",
       "      <td>18</td>\n",
       "      <td>500</td>\n",
       "      <td>0.3</td>\n",
       "      <td>0.003</td>\n",
       "      <td>0.2</td>\n",
       "      <td>0</td>\n",
       "      <td>None</td>\n",
       "      <td>7</td>\n",
       "      <td>0</td>\n",
       "      <td>4310</td>\n",
       "      <td>340000000</td>\n",
       "      <td>95c01e6b4d478a5f64324c77aea4d9a9685986d9d75e28...</td>\n",
       "      <td>3cb6055ac4af52ce4c48920c9046b1dff20acda7fc5877...</td>\n",
       "      <td>{\"PlutusV1\": {\"bData-cpu-arguments\": 1000, \"iD...</td>\n",
       "      <td>0.0577</td>\n",
       "      <td>0.000072</td>\n",
       "      <td>14000000</td>\n",
       "      <td>10000000000</td>\n",
       "      <td>62000000</td>\n",
       "      <td>40000000000</td>\n",
       "      <td>5000</td>\n",
       "      <td>150</td>\n",
       "      <td>3</td>\n",
       "      <td>4310</td>\n",
       "    </tr>\n",
       "  </tbody>\n",
       "</table>\n",
       "</div>"
      ],
      "text/plain": [
       "   epoch_no  min_fee_a  min_fee_b  max_block_size  max_tx_size  max_bh_size  \\\n",
       "0       386         44     155381           90112        16384         1100   \n",
       "\n",
       "  key_deposit pool_deposit  max_epoch  optimal_pool_count  influence  \\\n",
       "0     2000000    500000000         18                 500        0.3   \n",
       "\n",
       "   monetary_expand_rate  treasury_growth_rate  decentralisation extra_entropy  \\\n",
       "0                 0.003                   0.2                 0          None   \n",
       "\n",
       "   protocol_major  protocol_minor min_utxo_value min_pool_cost  \\\n",
       "0               7               0           4310     340000000   \n",
       "\n",
       "                                               nonce  \\\n",
       "0  95c01e6b4d478a5f64324c77aea4d9a9685986d9d75e28...   \n",
       "\n",
       "                                          block_hash  \\\n",
       "0  3cb6055ac4af52ce4c48920c9046b1dff20acda7fc5877...   \n",
       "\n",
       "                                         cost_models  price_mem  price_step  \\\n",
       "0  {\"PlutusV1\": {\"bData-cpu-arguments\": 1000, \"iD...     0.0577    0.000072   \n",
       "\n",
       "   max_tx_ex_mem  max_tx_ex_steps  max_block_ex_mem  max_block_ex_steps  \\\n",
       "0       14000000      10000000000          62000000         40000000000   \n",
       "\n",
       "   max_val_size  collateral_percent  max_collateral_inputs coins_per_utxo_size  \n",
       "0          5000                 150                      3                4310  "
      ]
     },
     "execution_count": 10,
     "metadata": {},
     "output_type": "execute_result"
    }
   ],
   "source": [
    "# Let's get the last epoch's protocol parameters\n",
    "current_epoch_params = pd.DataFrame(kp_mainnet.get_epoch_params(current_tip_df['epoch_no'][0]))\n",
    "current_epoch_params"
   ]
  },
  {
   "cell_type": "code",
   "execution_count": 14,
   "metadata": {},
   "outputs": [
    {
     "name": "stdout",
     "output_type": "stream",
     "text": [
      "As of epoch 386, the current minimum node version needed to produced blocks is (7.0)\n"
     ]
    }
   ],
   "source": [
    "# Now we can check the protocol major and minor versions needed to mint a block on the mainnet\n",
    "print(\"As of epoch {}, the current minimum node version needed to produce a block is ({}.{})\"\n",
    "      .format(current_tip_df['epoch_no'][0], current_epoch_params['protocol_major'][0],\n",
    "              current_epoch_params['protocol_minor'][0]))\n"
   ]
  },
  {
   "cell_type": "code",
   "execution_count": 22,
   "metadata": {},
   "outputs": [
    {
     "data": {
      "text/plain": [
       "([<matplotlib.patches.Wedge at 0x7f83911bbdf0>,\n",
       "  <matplotlib.patches.Wedge at 0x7f83911c83d0>],\n",
       " [Text(0.977974808783069, 0.5035526520491376, '7'),\n",
       "  Text(-0.977974832356069, -0.5035526062668318, '8')])"
      ]
     },
     "execution_count": 22,
     "metadata": {},
     "output_type": "execute_result"
    },
    {
     "data": {
      "image/png": "[encoded data removed]",
      "text/plain": [
       "<Figure size 432x288 with 1 Axes>"
      ]
     },
     "metadata": {},
     "output_type": "display_data"
    }
   ],
   "source": [
    "# Now let's look at the current epoch's blocks distribution based on node version\n",
    "block_protocol_dist = pd.DataFrame(kp_mainnet.get_epoch_block_protocols(current_tip_df['epoch_no'][0]))\n",
    "\n",
    "\n",
    "# Let's display the distribution as a pie chart\n",
    "plt.pie(block_protocol_dist['blocks'], labels=block_protocol_dist['proto_major'])"
   ]
  },
  {
   "attachments": {},
   "cell_type": "markdown",
   "metadata": {},
   "source": [
    "### Let's go over some use case examples for koios_python"
   ]
  },
  {
   "cell_type": "code",
   "execution_count": null,
   "metadata": {},
   "outputs": [],
   "source": []
  },
  {
   "attachments": {},
   "cell_type": "markdown",
   "metadata": {},
   "source": [
    "**Native Assets:**\n",
    "\n",
    "With Koios Python we can access useful data about various assets on the Cardano blockchain in a fairly simple manner.\n",
    "\n"
   ]
  },
  {
   "attachments": {},
   "cell_type": "markdown",
   "metadata": {},
   "source": [
    "How many wallets hold a specific asset or token?"
   ]
  },
  {
   "attachments": {},
   "cell_type": "markdown",
   "metadata": {},
   "source": [
    "Pool information\n",
    "\n",
    "Pool's history?\n",
    "\n",
    "How many pools are there?"
   ]
  },
  {
   "cell_type": "code",
   "execution_count": null,
   "metadata": {},
   "outputs": [],
   "source": []
  }
 ],
 "metadata": {
  "kernelspec": {
   "display_name": "base",
   "language": "python",
   "name": "python3"
  },
  "language_info": {
   "codemirror_mode": {
    "name": "ipython",
    "version": 3
   },
   "file_extension": ".py",
   "mimetype": "text/x-python",
   "name": "python",
   "nbconvert_exporter": "python",
   "pygments_lexer": "ipython3",
   "version": "3.9.7"
  },
  "orig_nbformat": 4,
  "vscode": {
   "interpreter": {
    "hash": "40d3a090f54c6569ab1632332b64b2c03c39dcf918b08424e98f38b5ae0af88f"
   }
  }
 },
 "nbformat": 4,
 "nbformat_minor": 2
}
