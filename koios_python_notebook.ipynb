{
 "cells": [
  {
   "cell_type": "code",
   "execution_count": 1,
   "metadata": {},
   "outputs": [],
   "source": [
    "#Importing packages\n",
    "#\n",
    "# You can delete whatever package(s) you want..\n",
    "#\n",
    "import os\n",
    "import json\n",
    "import time\n",
    "import requests\n",
    "import math as m\n",
    "import pandas as pd\n",
    "import numpy as np\n",
    "import koios_python as kp\n",
    "\n",
    "\n",
    "\n",
    "# Because most of my data sets I have made can have up to 30+ columns and 20+ rows\n",
    "# code below will increase pandas defaults for max rows \n",
    "# and columns that you can display in a Juptyer Notebook\n",
    "pd.options.display.max_columns = 60\n",
    "pd.options.display.max_rows = 1000"
   ]
  },
  {
   "attachments": {},
   "cell_type": "markdown",
   "metadata": {},
   "source": [
    "## NoteBook 1\n"
   ]
  },
  {
   "attachments": {},
   "cell_type": "markdown",
   "metadata": {},
   "source": [
    "#### In this Notebook we will be going over how to use the koios_python library in various scenarios a developer may face. The first thing we need to do is create a class instance for koios_python and choose what network we would like to use for our queries, in this tutorial we will use mainnet but the library supports all the various developer networks available including preview, preprod, guild, and mainnet."
   ]
  },
  {
   "cell_type": "code",
   "execution_count": 4,
   "metadata": {},
   "outputs": [],
   "source": [
    "# create a koios server object with network set to mainnet\n",
    "\n",
    "koios_mainnet = kp.URLs(network='mainnet')\n",
    "\n",
    "# let's check the current tip of the mainnet\n",
    "koios_mainnet.get_tip()"
   ]
  },
  {
   "attachments": {},
   "cell_type": "markdown",
   "metadata": {},
   "source": [
    "### Let's go over some use case examples for koios_python\n",
    "\n",
    "NFTs and other Assets:\n",
    "\n",
    "What if you wanted to find out how many NFTs are on the cardano blockchain?\n",
    "\n",
    "How many wallets hold a specific asset or token?\n",
    "\n",
    "How many pools are there?\n",
    "\n",
    "How much ada is going to the treasury per epoch?\n"
   ]
  },
  {
   "attachments": {},
   "cell_type": "markdown",
   "metadata": {},
   "source": []
  },
  {
   "cell_type": "code",
   "execution_count": null,
   "metadata": {},
   "outputs": [],
   "source": []
  }
 ],
 "metadata": {
  "kernelspec": {
   "display_name": "base",
   "language": "python",
   "name": "python3"
  },
  "language_info": {
   "codemirror_mode": {
    "name": "ipython",
    "version": 3
   },
   "file_extension": ".py",
   "mimetype": "text/x-python",
   "name": "python",
   "nbconvert_exporter": "python",
   "pygments_lexer": "ipython3",
   "version": "3.9.7"
  },
  "orig_nbformat": 4,
  "vscode": {
   "interpreter": {
    "hash": "40d3a090f54c6569ab1632332b64b2c03c39dcf918b08424e98f38b5ae0af88f"
   }
  }
 },
 "nbformat": 4,
 "nbformat_minor": 2
}
