{
 "cells": [
  {
   "cell_type": "code",
   "execution_count": 1,
   "metadata": {},
   "outputs": [],
   "source": [
    "#Importing packages\n",
    "#\n",
    "# You can delete whatever package(s) you want..\n",
    "#\n",
    "import os\n",
    "import json\n",
    "import time\n",
    "import requests\n",
    "import math as m\n",
    "import pandas as pd\n",
    "import numpy as np\n",
    "import koios_python as kp\n",
    "\n",
    "\n",
    "\n",
    "# Because most of my data sets I have made can have up to 30+ columns and 20+ rows\n",
    "# code below will increase pandas defaults for max rows \n",
    "# and columns that you can display in a Juptyer Notebook\n",
    "pd.options.display.max_columns = 60\n",
    "pd.options.display.max_rows = 1000"
   ]
  },
  {
   "attachments": {},
   "cell_type": "markdown",
   "metadata": {},
   "source": [
    "## NoteBook 1\n"
   ]
  },
  {
   "attachments": {},
   "cell_type": "markdown",
   "metadata": {},
   "source": [
    "In this Notebook we will be going over how to use the koios_python library in various scenarios a developer may face. The first thing we need to do is\n",
    "\n",
    "create a class instance for koios_python and choose what network we would like to use for our queries, in this tutorial we will use mainnet but the \n",
    "\n",
    "library supports all the various developer networks available including preview, preprod, guild, and mainnet."
   ]
  },
  {
   "cell_type": "code",
   "execution_count": 2,
   "metadata": {},
   "outputs": [
    {
     "data": {
      "text/plain": [
       "[{'hash': '573995bfa97a7ba712d620f49e5b5db28ec2a2e437bcdb1f888f788c22cb3b50',\n",
       "  'epoch_no': 384,\n",
       "  'abs_slot': 80634516,\n",
       "  'epoch_slot': 109716,\n",
       "  'block_no': 8195970,\n",
       "  'block_time': 1672200807}]"
      ]
     },
     "execution_count": 2,
     "metadata": {},
     "output_type": "execute_result"
    }
   ],
   "source": [
    "# create a koios server object with network set to mainnet\n",
    "koios_mainnet = kp.URLs(network='mainnet')\n",
    "\n",
    "# let's check the current tip of the mainnet\n",
    "koios_mainnet.get_tip()"
   ]
  },
  {
   "attachments": {},
   "cell_type": "markdown",
   "metadata": {},
   "source": [
    "### Let's go over some use case examples for koios_python"
   ]
  },
  {
   "attachments": {},
   "cell_type": "markdown",
   "metadata": {},
   "source": [
    "**Native Assets:**\n",
    "\n",
    "What if you wanted to find out how many Native Assets and tokens are on the cardano blockchain? (too expensive need async XD)"
   ]
  },
  {
   "cell_type": "code",
   "execution_count": 4,
   "metadata": {},
   "outputs": [],
   "source": [
    "# my own version of the get_asset_list function\n",
    "def get_asset_list(content_range=\"0-999\"):\n",
    "    url = \"https://api.koios.rest/api/v0/asset_list\"\n",
    "    headers = {'Range': content_range}\n",
    "    response = requests.get(url, headers=headers)\n",
    "    try: \n",
    "        asset_list = response.json()\n",
    "        pd_asset_list = pd.DataFrame(asset_list)\n",
    "        return pd_asset_list\n",
    "    except Exception as e:\n",
    "            print(e)"
   ]
  },
  {
   "cell_type": "code",
   "execution_count": 7,
   "metadata": {},
   "outputs": [],
   "source": [
    "asset_df = pd.DataFrame()\n",
    "for i in range(2):\n",
    "        # data = koios_mainnet.get_asset_list(content_range=\"{}-{}\".format(i*1000,(i+1)*1000))\n",
    "        # print(data)\n",
    "        # print(koios_mainnet.get_asset_list(content_range=\"{}-{}\".format(i*1000,(i+1)*1000)))\n",
    "        asset_data = get_asset_list(content_range=\"{}-{}\".format(i*1000,(i+1)*1000))\n",
    "        # print(asset_data)\n",
    "        if len(asset_data) > 0:\n",
    "                asset_df = pd.concat([asset_df, asset_data], axis=0, join='outer')\n"
   ]
  },
  {
   "cell_type": "code",
   "execution_count": 8,
   "metadata": {},
   "outputs": [
    {
     "data": {
      "text/html": [
       "<div>\n",
       "<style scoped>\n",
       "    .dataframe tbody tr th:only-of-type {\n",
       "        vertical-align: middle;\n",
       "    }\n",
       "\n",
       "    .dataframe tbody tr th {\n",
       "        vertical-align: top;\n",
       "    }\n",
       "\n",
       "    .dataframe thead th {\n",
       "        text-align: right;\n",
       "    }\n",
       "</style>\n",
       "<table border=\"1\" class=\"dataframe\">\n",
       "  <thead>\n",
       "    <tr style=\"text-align: right;\">\n",
       "      <th></th>\n",
       "      <th>policy_id</th>\n",
       "      <th>asset_name</th>\n",
       "      <th>fingerprint</th>\n",
       "    </tr>\n",
       "  </thead>\n",
       "  <tbody>\n",
       "    <tr>\n",
       "      <th>0</th>\n",
       "      <td>00000002df633853f6a47465c9496721d2d5b1291b8398...</td>\n",
       "      <td>6e7574636f696e</td>\n",
       "      <td>asset12h3p5l3nd5y26lr22am7y7ga3vxghkhf57zkhd</td>\n",
       "    </tr>\n",
       "    <tr>\n",
       "      <th>1</th>\n",
       "      <td>000000adf8fcbdf03a5c154123aff674edf287fb13532a...</td>\n",
       "      <td>5853534e4654</td>\n",
       "      <td>asset1ke42k9ug86yr535qwkq5edlvfdvlpfuslrmfup</td>\n",
       "    </tr>\n",
       "    <tr>\n",
       "      <th>2</th>\n",
       "      <td>000006126365b110b339bd39c5b5c0fc89eb146cc186ba...</td>\n",
       "      <td>5061696e7465724e656b6f4f7263686172643031</td>\n",
       "      <td>asset1xedcm62nhn8hv0644apeydjppudtuqxm0nyvxq</td>\n",
       "    </tr>\n",
       "    <tr>\n",
       "      <th>3</th>\n",
       "      <td>000006126365b110b339bd39c5b5c0fc89eb146cc186ba...</td>\n",
       "      <td>5061696e7465724e656b6f4f7263686172643032</td>\n",
       "      <td>asset1c8lfga60kvftykq9a65naml07633zqwe883gaj</td>\n",
       "    </tr>\n",
       "    <tr>\n",
       "      <th>4</th>\n",
       "      <td>000006126365b110b339bd39c5b5c0fc89eb146cc186ba...</td>\n",
       "      <td>5061696e7465724e656b6f4f7263686172643033</td>\n",
       "      <td>asset1kuezrt73hk9pp93skjl2jezn3etnyhmr6ezmru</td>\n",
       "    </tr>\n",
       "    <tr>\n",
       "      <th>...</th>\n",
       "      <td>...</td>\n",
       "      <td>...</td>\n",
       "      <td>...</td>\n",
       "    </tr>\n",
       "    <tr>\n",
       "      <th>995</th>\n",
       "      <td>0029cb7c88c7567b63d1a512c0ed626aa169688ec98073...</td>\n",
       "      <td>6c70207a01</td>\n",
       "      <td>asset105qdq03hefge9eez9nvq7dnuwclrf07aqqvpn3</td>\n",
       "    </tr>\n",
       "    <tr>\n",
       "      <th>996</th>\n",
       "      <td>0029cb7c88c7567b63d1a512c0ed626aa169688ec98073...</td>\n",
       "      <td>6c70207a02</td>\n",
       "      <td>asset1jenwc47qvwndzc22420n9dytfjd70jm32c6afj</td>\n",
       "    </tr>\n",
       "    <tr>\n",
       "      <th>997</th>\n",
       "      <td>0029cb7c88c7567b63d1a512c0ed626aa169688ec98073...</td>\n",
       "      <td>6c70207a03</td>\n",
       "      <td>asset1rm23kft2nx94wvppcfmydcrp3rfkpysvc5uvtp</td>\n",
       "    </tr>\n",
       "    <tr>\n",
       "      <th>998</th>\n",
       "      <td>0029cb7c88c7567b63d1a512c0ed626aa169688ec98073...</td>\n",
       "      <td>6c70207b</td>\n",
       "      <td>asset13h488j83sg7sjjcjuhjpr8uydmk7xejcuejwhg</td>\n",
       "    </tr>\n",
       "    <tr>\n",
       "      <th>999</th>\n",
       "      <td>0029cb7c88c7567b63d1a512c0ed626aa169688ec98073...</td>\n",
       "      <td>6c70207b01</td>\n",
       "      <td>asset160gnuafe9eqgrztgcxsyjl0avc8tnjunsmm4n2</td>\n",
       "    </tr>\n",
       "  </tbody>\n",
       "</table>\n",
       "<p>2000 rows × 3 columns</p>\n",
       "</div>"
      ],
      "text/plain": [
       "                                             policy_id  \\\n",
       "0    00000002df633853f6a47465c9496721d2d5b1291b8398...   \n",
       "1    000000adf8fcbdf03a5c154123aff674edf287fb13532a...   \n",
       "2    000006126365b110b339bd39c5b5c0fc89eb146cc186ba...   \n",
       "3    000006126365b110b339bd39c5b5c0fc89eb146cc186ba...   \n",
       "4    000006126365b110b339bd39c5b5c0fc89eb146cc186ba...   \n",
       "..                                                 ...   \n",
       "995  0029cb7c88c7567b63d1a512c0ed626aa169688ec98073...   \n",
       "996  0029cb7c88c7567b63d1a512c0ed626aa169688ec98073...   \n",
       "997  0029cb7c88c7567b63d1a512c0ed626aa169688ec98073...   \n",
       "998  0029cb7c88c7567b63d1a512c0ed626aa169688ec98073...   \n",
       "999  0029cb7c88c7567b63d1a512c0ed626aa169688ec98073...   \n",
       "\n",
       "                                   asset_name  \\\n",
       "0                              6e7574636f696e   \n",
       "1                                5853534e4654   \n",
       "2    5061696e7465724e656b6f4f7263686172643031   \n",
       "3    5061696e7465724e656b6f4f7263686172643032   \n",
       "4    5061696e7465724e656b6f4f7263686172643033   \n",
       "..                                        ...   \n",
       "995                                6c70207a01   \n",
       "996                                6c70207a02   \n",
       "997                                6c70207a03   \n",
       "998                                  6c70207b   \n",
       "999                                6c70207b01   \n",
       "\n",
       "                                      fingerprint  \n",
       "0    asset12h3p5l3nd5y26lr22am7y7ga3vxghkhf57zkhd  \n",
       "1    asset1ke42k9ug86yr535qwkq5edlvfdvlpfuslrmfup  \n",
       "2    asset1xedcm62nhn8hv0644apeydjppudtuqxm0nyvxq  \n",
       "3    asset1c8lfga60kvftykq9a65naml07633zqwe883gaj  \n",
       "4    asset1kuezrt73hk9pp93skjl2jezn3etnyhmr6ezmru  \n",
       "..                                            ...  \n",
       "995  asset105qdq03hefge9eez9nvq7dnuwclrf07aqqvpn3  \n",
       "996  asset1jenwc47qvwndzc22420n9dytfjd70jm32c6afj  \n",
       "997  asset1rm23kft2nx94wvppcfmydcrp3rfkpysvc5uvtp  \n",
       "998  asset13h488j83sg7sjjcjuhjpr8uydmk7xejcuejwhg  \n",
       "999  asset160gnuafe9eqgrztgcxsyjl0avc8tnjunsmm4n2  \n",
       "\n",
       "[2000 rows x 3 columns]"
      ]
     },
     "execution_count": 8,
     "metadata": {},
     "output_type": "execute_result"
    }
   ],
   "source": [
    "asset_df"
   ]
  },
  {
   "cell_type": "code",
   "execution_count": 9,
   "metadata": {},
   "outputs": [],
   "source": [
    "asset_df.drop_duplicates(subset=['fingerprint'], inplace=True)"
   ]
  },
  {
   "cell_type": "code",
   "execution_count": 11,
   "metadata": {},
   "outputs": [
    {
     "data": {
      "text/html": [
       "<div>\n",
       "<style scoped>\n",
       "    .dataframe tbody tr th:only-of-type {\n",
       "        vertical-align: middle;\n",
       "    }\n",
       "\n",
       "    .dataframe tbody tr th {\n",
       "        vertical-align: top;\n",
       "    }\n",
       "\n",
       "    .dataframe thead th {\n",
       "        text-align: right;\n",
       "    }\n",
       "</style>\n",
       "<table border=\"1\" class=\"dataframe\">\n",
       "  <thead>\n",
       "    <tr style=\"text-align: right;\">\n",
       "      <th></th>\n",
       "      <th>policy_id</th>\n",
       "      <th>asset_name</th>\n",
       "      <th>fingerprint</th>\n",
       "    </tr>\n",
       "  </thead>\n",
       "  <tbody>\n",
       "    <tr>\n",
       "      <th>0</th>\n",
       "      <td>00000002df633853f6a47465c9496721d2d5b1291b8398...</td>\n",
       "      <td>6e7574636f696e</td>\n",
       "      <td>asset12h3p5l3nd5y26lr22am7y7ga3vxghkhf57zkhd</td>\n",
       "    </tr>\n",
       "    <tr>\n",
       "      <th>1</th>\n",
       "      <td>000000adf8fcbdf03a5c154123aff674edf287fb13532a...</td>\n",
       "      <td>5853534e4654</td>\n",
       "      <td>asset1ke42k9ug86yr535qwkq5edlvfdvlpfuslrmfup</td>\n",
       "    </tr>\n",
       "    <tr>\n",
       "      <th>2</th>\n",
       "      <td>000006126365b110b339bd39c5b5c0fc89eb146cc186ba...</td>\n",
       "      <td>5061696e7465724e656b6f4f7263686172643031</td>\n",
       "      <td>asset1xedcm62nhn8hv0644apeydjppudtuqxm0nyvxq</td>\n",
       "    </tr>\n",
       "    <tr>\n",
       "      <th>3</th>\n",
       "      <td>000006126365b110b339bd39c5b5c0fc89eb146cc186ba...</td>\n",
       "      <td>5061696e7465724e656b6f4f7263686172643032</td>\n",
       "      <td>asset1c8lfga60kvftykq9a65naml07633zqwe883gaj</td>\n",
       "    </tr>\n",
       "    <tr>\n",
       "      <th>4</th>\n",
       "      <td>000006126365b110b339bd39c5b5c0fc89eb146cc186ba...</td>\n",
       "      <td>5061696e7465724e656b6f4f7263686172643033</td>\n",
       "      <td>asset1kuezrt73hk9pp93skjl2jezn3etnyhmr6ezmru</td>\n",
       "    </tr>\n",
       "    <tr>\n",
       "      <th>...</th>\n",
       "      <td>...</td>\n",
       "      <td>...</td>\n",
       "      <td>...</td>\n",
       "    </tr>\n",
       "    <tr>\n",
       "      <th>1995</th>\n",
       "      <td>0029cb7c88c7567b63d1a512c0ed626aa169688ec98073...</td>\n",
       "      <td>6c70207a01</td>\n",
       "      <td>asset105qdq03hefge9eez9nvq7dnuwclrf07aqqvpn3</td>\n",
       "    </tr>\n",
       "    <tr>\n",
       "      <th>1996</th>\n",
       "      <td>0029cb7c88c7567b63d1a512c0ed626aa169688ec98073...</td>\n",
       "      <td>6c70207a02</td>\n",
       "      <td>asset1jenwc47qvwndzc22420n9dytfjd70jm32c6afj</td>\n",
       "    </tr>\n",
       "    <tr>\n",
       "      <th>1997</th>\n",
       "      <td>0029cb7c88c7567b63d1a512c0ed626aa169688ec98073...</td>\n",
       "      <td>6c70207a03</td>\n",
       "      <td>asset1rm23kft2nx94wvppcfmydcrp3rfkpysvc5uvtp</td>\n",
       "    </tr>\n",
       "    <tr>\n",
       "      <th>1998</th>\n",
       "      <td>0029cb7c88c7567b63d1a512c0ed626aa169688ec98073...</td>\n",
       "      <td>6c70207b</td>\n",
       "      <td>asset13h488j83sg7sjjcjuhjpr8uydmk7xejcuejwhg</td>\n",
       "    </tr>\n",
       "    <tr>\n",
       "      <th>1999</th>\n",
       "      <td>0029cb7c88c7567b63d1a512c0ed626aa169688ec98073...</td>\n",
       "      <td>6c70207b01</td>\n",
       "      <td>asset160gnuafe9eqgrztgcxsyjl0avc8tnjunsmm4n2</td>\n",
       "    </tr>\n",
       "  </tbody>\n",
       "</table>\n",
       "<p>2000 rows × 3 columns</p>\n",
       "</div>"
      ],
      "text/plain": [
       "                                              policy_id  \\\n",
       "0     00000002df633853f6a47465c9496721d2d5b1291b8398...   \n",
       "1     000000adf8fcbdf03a5c154123aff674edf287fb13532a...   \n",
       "2     000006126365b110b339bd39c5b5c0fc89eb146cc186ba...   \n",
       "3     000006126365b110b339bd39c5b5c0fc89eb146cc186ba...   \n",
       "4     000006126365b110b339bd39c5b5c0fc89eb146cc186ba...   \n",
       "...                                                 ...   \n",
       "1995  0029cb7c88c7567b63d1a512c0ed626aa169688ec98073...   \n",
       "1996  0029cb7c88c7567b63d1a512c0ed626aa169688ec98073...   \n",
       "1997  0029cb7c88c7567b63d1a512c0ed626aa169688ec98073...   \n",
       "1998  0029cb7c88c7567b63d1a512c0ed626aa169688ec98073...   \n",
       "1999  0029cb7c88c7567b63d1a512c0ed626aa169688ec98073...   \n",
       "\n",
       "                                    asset_name  \\\n",
       "0                               6e7574636f696e   \n",
       "1                                 5853534e4654   \n",
       "2     5061696e7465724e656b6f4f7263686172643031   \n",
       "3     5061696e7465724e656b6f4f7263686172643032   \n",
       "4     5061696e7465724e656b6f4f7263686172643033   \n",
       "...                                        ...   \n",
       "1995                                6c70207a01   \n",
       "1996                                6c70207a02   \n",
       "1997                                6c70207a03   \n",
       "1998                                  6c70207b   \n",
       "1999                                6c70207b01   \n",
       "\n",
       "                                       fingerprint  \n",
       "0     asset12h3p5l3nd5y26lr22am7y7ga3vxghkhf57zkhd  \n",
       "1     asset1ke42k9ug86yr535qwkq5edlvfdvlpfuslrmfup  \n",
       "2     asset1xedcm62nhn8hv0644apeydjppudtuqxm0nyvxq  \n",
       "3     asset1c8lfga60kvftykq9a65naml07633zqwe883gaj  \n",
       "4     asset1kuezrt73hk9pp93skjl2jezn3etnyhmr6ezmru  \n",
       "...                                            ...  \n",
       "1995  asset105qdq03hefge9eez9nvq7dnuwclrf07aqqvpn3  \n",
       "1996  asset1jenwc47qvwndzc22420n9dytfjd70jm32c6afj  \n",
       "1997  asset1rm23kft2nx94wvppcfmydcrp3rfkpysvc5uvtp  \n",
       "1998  asset13h488j83sg7sjjcjuhjpr8uydmk7xejcuejwhg  \n",
       "1999  asset160gnuafe9eqgrztgcxsyjl0avc8tnjunsmm4n2  \n",
       "\n",
       "[2000 rows x 3 columns]"
      ]
     },
     "execution_count": 11,
     "metadata": {},
     "output_type": "execute_result"
    }
   ],
   "source": [
    "# want the index to be just the number of rows in the dataframe\n",
    "asset_df.index = range(len(asset_df))\n",
    "asset_df"
   ]
  },
  {
   "attachments": {},
   "cell_type": "markdown",
   "metadata": {},
   "source": [
    "How many wallets hold a specific asset or token?"
   ]
  },
  {
   "cell_type": "code",
   "execution_count": null,
   "metadata": {},
   "outputs": [
    {
     "data": {
      "text/plain": [
       "{'policy_id': '000077e4f562322fc25f79335f7b309a89347626e4d7a64598b0b927',\n",
       " 'asset_name': '53756d6d65725363656e654461794f6e65303233',\n",
       " 'fingerprint': 'asset18mlzwmdw2ggyj80ecg7thnjnucppuy70y7ddav'}"
      ]
     },
     "execution_count": 11,
     "metadata": {},
     "output_type": "execute_result"
    }
   ],
   "source": [
    "asset_df[0][93]"
   ]
  },
  {
   "cell_type": "code",
   "execution_count": null,
   "metadata": {},
   "outputs": [
    {
     "data": {
      "text/plain": [
       "{'policy_id': '000077e4f562322fc25f79335f7b309a89347626e4d7a64598b0b927',\n",
       " 'asset_name': '53756d6d65725363656e654461794f6e65303235',\n",
       " 'fingerprint': 'asset1m3ke2eqguyqfud3gk4pu3l0m7e8078m43evewj'}"
      ]
     },
     "execution_count": 12,
     "metadata": {},
     "output_type": "execute_result"
    }
   ],
   "source": [
    "asset_df[0][95]"
   ]
  },
  {
   "attachments": {},
   "cell_type": "markdown",
   "metadata": {},
   "source": [
    "Pool information\n",
    "\n",
    "Pool's history?\n",
    "\n",
    "How many pools are there?"
   ]
  },
  {
   "cell_type": "code",
   "execution_count": null,
   "metadata": {},
   "outputs": [
    {
     "data": {
      "text/plain": [
       "{'policy_id': '000077e4f562322fc25f79335f7b309a89347626e4d7a64598b0b927',\n",
       " 'asset_name': '53756d6d65725363656e654461794f6e65303330',\n",
       " 'fingerprint': 'asset1tmusxscqcpycx8ms5ywwhd9vclfqzxykgpzxml'}"
      ]
     },
     "execution_count": 15,
     "metadata": {},
     "output_type": "execute_result"
    }
   ],
   "source": [
    "asset_df[0][100]"
   ]
  },
  {
   "attachments": {},
   "cell_type": "markdown",
   "metadata": {},
   "source": []
  },
  {
   "cell_type": "code",
   "execution_count": null,
   "metadata": {},
   "outputs": [],
   "source": []
  }
 ],
 "metadata": {
  "kernelspec": {
   "display_name": "base",
   "language": "python",
   "name": "python3"
  },
  "language_info": {
   "codemirror_mode": {
    "name": "ipython",
    "version": 3
   },
   "file_extension": ".py",
   "mimetype": "text/x-python",
   "name": "python",
   "nbconvert_exporter": "python",
   "pygments_lexer": "ipython3",
   "version": "3.9.7"
  },
  "orig_nbformat": 4,
  "vscode": {
   "interpreter": {
    "hash": "40d3a090f54c6569ab1632332b64b2c03c39dcf918b08424e98f38b5ae0af88f"
   }
  }
 },
 "nbformat": 4,
 "nbformat_minor": 2
}
